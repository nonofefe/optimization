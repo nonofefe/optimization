{
 "cells": [
  {
   "cell_type": "markdown",
   "metadata": {},
   "source": [
    "# ヒント"
   ]
  },
  {
   "cell_type": "markdown",
   "metadata": {},
   "source": [
    "本ノートブックでは、演習問題を取り組む上でのヒントをいくつか提示します。"
   ]
  },
  {
   "cell_type": "markdown",
   "metadata": {},
   "source": [
    "## 1. 会社の位置の可視化"
   ]
  },
  {
   "cell_type": "markdown",
   "metadata": {},
   "source": [
    "### パッケージ読み込み"
   ]
  },
  {
   "cell_type": "code",
   "execution_count": 1,
   "metadata": {},
   "outputs": [],
   "source": [
    "# パッケージ読み込み\n",
    "from __future__ import annotations\n",
    "import pandas as pd\n",
    "import matplotlib.pyplot as plt\n",
    "\n",
    "# グラフ描画設定\n",
    "plt.rcParams[\"font.family\"] = \"Meiryo\"\n",
    "plt.rcParams[\"savefig.facecolor\"] = \"white\""
   ]
  },
  {
   "cell_type": "markdown",
   "metadata": {},
   "source": [
    "### 入力データ読み込み"
   ]
  },
  {
   "cell_type": "code",
   "execution_count": 2,
   "metadata": {},
   "outputs": [
    {
     "data": {
      "text/html": [
       "<div>\n",
       "<style scoped>\n",
       "    .dataframe tbody tr th:only-of-type {\n",
       "        vertical-align: middle;\n",
       "    }\n",
       "\n",
       "    .dataframe tbody tr th {\n",
       "        vertical-align: top;\n",
       "    }\n",
       "\n",
       "    .dataframe thead th {\n",
       "        text-align: right;\n",
       "    }\n",
       "</style>\n",
       "<table border=\"1\" class=\"dataframe\">\n",
       "  <thead>\n",
       "    <tr style=\"text-align: right;\">\n",
       "      <th></th>\n",
       "      <th>X</th>\n",
       "      <th>Y</th>\n",
       "      <th>EPT</th>\n",
       "      <th>FPT</th>\n",
       "      <th>PT</th>\n",
       "      <th>PW</th>\n",
       "    </tr>\n",
       "    <tr>\n",
       "      <th>CID</th>\n",
       "      <th></th>\n",
       "      <th></th>\n",
       "      <th></th>\n",
       "      <th></th>\n",
       "      <th></th>\n",
       "      <th></th>\n",
       "    </tr>\n",
       "  </thead>\n",
       "  <tbody>\n",
       "    <tr>\n",
       "      <th>1</th>\n",
       "      <td>5</td>\n",
       "      <td>15</td>\n",
       "      <td>118</td>\n",
       "      <td>278</td>\n",
       "      <td>90</td>\n",
       "      <td>20</td>\n",
       "    </tr>\n",
       "    <tr>\n",
       "      <th>2</th>\n",
       "      <td>-7</td>\n",
       "      <td>-15</td>\n",
       "      <td>2573</td>\n",
       "      <td>2733</td>\n",
       "      <td>90</td>\n",
       "      <td>10</td>\n",
       "    </tr>\n",
       "    <tr>\n",
       "      <th>3</th>\n",
       "      <td>-15</td>\n",
       "      <td>35</td>\n",
       "      <td>2119</td>\n",
       "      <td>2279</td>\n",
       "      <td>90</td>\n",
       "      <td>20</td>\n",
       "    </tr>\n",
       "    <tr>\n",
       "      <th>4</th>\n",
       "      <td>-17</td>\n",
       "      <td>2</td>\n",
       "      <td>209</td>\n",
       "      <td>369</td>\n",
       "      <td>90</td>\n",
       "      <td>10</td>\n",
       "    </tr>\n",
       "    <tr>\n",
       "      <th>5</th>\n",
       "      <td>25</td>\n",
       "      <td>10</td>\n",
       "      <td>1546</td>\n",
       "      <td>1706</td>\n",
       "      <td>90</td>\n",
       "      <td>30</td>\n",
       "    </tr>\n",
       "  </tbody>\n",
       "</table>\n",
       "</div>"
      ],
      "text/plain": [
       "      X   Y   EPT   FPT  PT  PW\n",
       "CID                            \n",
       "1     5  15   118   278  90  20\n",
       "2    -7 -15  2573  2733  90  10\n",
       "3   -15  35  2119  2279  90  20\n",
       "4   -17   2   209   369  90  10\n",
       "5    25  10  1546  1706  90  30"
      ]
     },
     "execution_count": 2,
     "metadata": {},
     "output_type": "execute_result"
    }
   ],
   "source": [
    "# 入力データ読み込み\n",
    "df = pd.read_csv(\"../data/in/companies.csv\", index_col=0)\n",
    "df.head()"
   ]
  },
  {
   "cell_type": "markdown",
   "metadata": {},
   "source": [
    "### 定数の定義"
   ]
  },
  {
   "cell_type": "code",
   "execution_count": 3,
   "metadata": {},
   "outputs": [],
   "source": [
    "# 定数\n",
    "# デポ\n",
    "df_depo = pd.DataFrame([[0 for _ in range(len(df.columns))]], columns=df.columns)\n",
    "df_depo.index.name = df.index.name"
   ]
  },
  {
   "cell_type": "markdown",
   "metadata": {},
   "source": [
    "### 会社の位置の可視化"
   ]
  },
  {
   "cell_type": "code",
   "execution_count": 4,
   "metadata": {},
   "outputs": [
    {
     "data": {
      "image/png": "[encoded data removed]",
      "text/plain": [
       "<Figure size 432x288 with 1 Axes>"
      ]
     },
     "metadata": {
      "needs_background": "light"
     },
     "output_type": "display_data"
    }
   ],
   "source": [
    "# 会社の位置\n",
    "_, ax = plt.subplots()\n",
    "ax.scatter(df_depo[\"X\"], df_depo[\"Y\"], c=\"black\", s=100)\n",
    "ax.scatter(df[\"X\"], df[\"Y\"])\n",
    "x_lim, y_lim = max(abs(df[\"X\"])), max(abs(df[\"Y\"]))\n",
    "x_lim *= 1.2\n",
    "y_lim *= 1.2\n",
    "ax.set_xlim(-x_lim, x_lim)\n",
    "ax.set_ylim(-y_lim, y_lim)\n",
    "ax.set_xlabel(\"X\")\n",
    "ax.set_ylabel(\"Y\")\n",
    "ax.set_title(\"会社の位置\")\n",
    "ax.grid()"
   ]
  },
  {
   "cell_type": "markdown",
   "metadata": {},
   "source": [
    "可視化を行ったところ、会社の位置はランダムではないことが分かります。"
   ]
  },
  {
   "cell_type": "markdown",
   "metadata": {},
   "source": [
    "## 2. 解の可視化"
   ]
  },
  {
   "cell_type": "markdown",
   "metadata": {},
   "source": [
    "### パッケージ読み込み"
   ]
  },
  {
   "cell_type": "code",
   "execution_count": 5,
   "metadata": {},
   "outputs": [],
   "source": [
    "# パッケージ読み込み\n",
    "from __future__ import annotations\n",
    "import pandas as pd\n",
    "import matplotlib.pyplot as plt\n",
    "import math\n",
    "\n",
    "# グラフ描画設定\n",
    "plt.rcParams[\"font.family\"] = \"Meiryo\"\n",
    "plt.rcParams[\"savefig.facecolor\"] = \"white\""
   ]
  },
  {
   "cell_type": "markdown",
   "metadata": {},
   "source": [
    "### 入力データ読み込み"
   ]
  },
  {
   "cell_type": "code",
   "execution_count": 6,
   "metadata": {},
   "outputs": [
    {
     "data": {
      "text/html": [
       "<div>\n",
       "<style scoped>\n",
       "    .dataframe tbody tr th:only-of-type {\n",
       "        vertical-align: middle;\n",
       "    }\n",
       "\n",
       "    .dataframe tbody tr th {\n",
       "        vertical-align: top;\n",
       "    }\n",
       "\n",
       "    .dataframe thead th {\n",
       "        text-align: right;\n",
       "    }\n",
       "</style>\n",
       "<table border=\"1\" class=\"dataframe\">\n",
       "  <thead>\n",
       "    <tr style=\"text-align: right;\">\n",
       "      <th></th>\n",
       "      <th>X</th>\n",
       "      <th>Y</th>\n",
       "      <th>EPT</th>\n",
       "      <th>FPT</th>\n",
       "      <th>PT</th>\n",
       "      <th>PW</th>\n",
       "    </tr>\n",
       "    <tr>\n",
       "      <th>CID</th>\n",
       "      <th></th>\n",
       "      <th></th>\n",
       "      <th></th>\n",
       "      <th></th>\n",
       "      <th></th>\n",
       "      <th></th>\n",
       "    </tr>\n",
       "  </thead>\n",
       "  <tbody>\n",
       "    <tr>\n",
       "      <th>1</th>\n",
       "      <td>5</td>\n",
       "      <td>15</td>\n",
       "      <td>118</td>\n",
       "      <td>278</td>\n",
       "      <td>90</td>\n",
       "      <td>20</td>\n",
       "    </tr>\n",
       "    <tr>\n",
       "      <th>2</th>\n",
       "      <td>-7</td>\n",
       "      <td>-15</td>\n",
       "      <td>2573</td>\n",
       "      <td>2733</td>\n",
       "      <td>90</td>\n",
       "      <td>10</td>\n",
       "    </tr>\n",
       "    <tr>\n",
       "      <th>3</th>\n",
       "      <td>-15</td>\n",
       "      <td>35</td>\n",
       "      <td>2119</td>\n",
       "      <td>2279</td>\n",
       "      <td>90</td>\n",
       "      <td>20</td>\n",
       "    </tr>\n",
       "    <tr>\n",
       "      <th>4</th>\n",
       "      <td>-17</td>\n",
       "      <td>2</td>\n",
       "      <td>209</td>\n",
       "      <td>369</td>\n",
       "      <td>90</td>\n",
       "      <td>10</td>\n",
       "    </tr>\n",
       "    <tr>\n",
       "      <th>5</th>\n",
       "      <td>25</td>\n",
       "      <td>10</td>\n",
       "      <td>1546</td>\n",
       "      <td>1706</td>\n",
       "      <td>90</td>\n",
       "      <td>30</td>\n",
       "    </tr>\n",
       "  </tbody>\n",
       "</table>\n",
       "</div>"
      ],
      "text/plain": [
       "      X   Y   EPT   FPT  PT  PW\n",
       "CID                            \n",
       "1     5  15   118   278  90  20\n",
       "2    -7 -15  2573  2733  90  10\n",
       "3   -15  35  2119  2279  90  20\n",
       "4   -17   2   209   369  90  10\n",
       "5    25  10  1546  1706  90  30"
      ]
     },
     "execution_count": 6,
     "metadata": {},
     "output_type": "execute_result"
    }
   ],
   "source": [
    "# 入力データ読み込み\n",
    "df = pd.read_csv(\"../data/in/companies.csv\", index_col=0)\n",
    "df.head()"
   ]
  },
  {
   "cell_type": "markdown",
   "metadata": {},
   "source": [
    "### 定数の定義"
   ]
  },
  {
   "cell_type": "code",
   "execution_count": 7,
   "metadata": {},
   "outputs": [],
   "source": [
    "# 定数\n",
    "# 会社リスト\n",
    "COMPANIES = df.index.tolist()\n",
    "# 会社数\n",
    "COMPANY_CNT = len(COMPANIES)\n",
    "# 営業リスト\n",
    "SALES = [1, 2, 3]\n",
    "# 営業の人数\n",
    "SALES_CNT = len(SALES)\n",
    "# 営業のカバン容量\n",
    "SALES_CAPACITY = 700\n",
    "# デポ\n",
    "df_depo = pd.DataFrame([[0 for _ in range(len(df.columns))]], columns=df.columns)\n",
    "df_depo.index.name = df.index.name"
   ]
  },
  {
   "cell_type": "markdown",
   "metadata": {},
   "source": [
    "### 評価関数値を取得する関数を定義"
   ]
  },
  {
   "cell_type": "code",
   "execution_count": 8,
   "metadata": {},
   "outputs": [],
   "source": [
    "def get_obj(res: dict[int, list[int]]) -> float:\n",
    "    \"\"\"\n",
    "    解の評価関数値を取得する.\n",
    "\n",
    "    Args:\n",
    "        res (dict[int, list[int]]): 解\n",
    "\n",
    "    Returns:\n",
    "        float: 評価関数値\n",
    "    \"\"\"\n",
    "    obj = 0\n",
    "    for k in SALES:\n",
    "        t = 0\n",
    "        penalty = 0\n",
    "        spw = 0\n",
    "        # スタート地点（原点）\n",
    "        prev_x, prev_y = 0, 0\n",
    "        for i in res[k]:\n",
    "            # 業務時間\n",
    "            x, y = df.at[i, \"X\"], df.at[i, \"Y\"]\n",
    "            diff_x, diff_y = abs(x - prev_x), abs(y - prev_y)\n",
    "            t += math.sqrt(diff_x*diff_x + diff_y*diff_y)\n",
    "\n",
    "            # プレゼン時間に関するペナルティ\n",
    "            ept, fpt, pt = df.at[i, \"EPT\"], df.at[i, \"FPT\"], df.at[i, \"PT\"]\n",
    "            penalty += max(ept-t, 0)\n",
    "            penalty += 2*max(0, (t+pt)-fpt)\n",
    "\n",
    "            # プレゼン時間を追加\n",
    "            t += pt\n",
    "\n",
    "            # 訪問する会社のプレゼン資料の総重量\n",
    "            pw = df.at[i, \"PW\"]\n",
    "            spw += pw\n",
    "\n",
    "            prev_x, prev_y = x, y\n",
    "        # 最後に訪問する会社からゴール地点（原点）への業務時間\n",
    "        x, y = 0, 0\n",
    "        diff_x, diff_y = abs(x - prev_x), abs(y - prev_y)\n",
    "        t += math.sqrt(diff_x*diff_x + diff_y*diff_y)\n",
    "\n",
    "        # カバン容量に関するペナルティ\n",
    "        penalty += 10*max(0, spw-SALES_CAPACITY)\n",
    "\n",
    "        obj += t + penalty\n",
    "    return obj"
   ]
  },
  {
   "cell_type": "markdown",
   "metadata": {},
   "source": [
    "### 解を可視化する関数を定義"
   ]
  },
  {
   "cell_type": "code",
   "execution_count": 9,
   "metadata": {},
   "outputs": [],
   "source": [
    "def show_result(res: dict[int, list[int]]) -> tuple[pd.DataFrame, pd.DataFrame, pd.DataFrame]:\n",
    "    \"\"\"\n",
    "    解を可視化する.\n",
    "\n",
    "    Args:\n",
    "        res (dict[int, list[int]]): 解\n",
    "\n",
    "    Returns:\n",
    "        tuple[pd.DataFrame, pd.DataFrame, pd.DataFrame]: 営業毎の解\n",
    "    \"\"\"\n",
    "    # 解をデータフレームに変換\n",
    "    df1 = df.loc[res[1]]\n",
    "    df2 = df.loc[res[2]]\n",
    "    df3 = df.loc[res[3]]\n",
    "\n",
    "    # 会社の訪問順\n",
    "    _, ax = plt.subplots()\n",
    "    ax.scatter(df_depo[\"X\"], df_depo[\"Y\"], c=\"black\", s=100)\n",
    "    ax.scatter(df1[\"X\"], df1[\"Y\"], c=\"red\")\n",
    "    ax.scatter(df2[\"X\"], df2[\"Y\"], c=\"blue\")\n",
    "    ax.scatter(df3[\"X\"], df3[\"Y\"], c=\"green\")\n",
    "    ax.plot(pd.concat([df_depo[\"X\"], df1[\"X\"], df_depo[\"X\"]]), pd.concat([df_depo[\"Y\"], df1[\"Y\"], df_depo[\"Y\"]]), c=\"red\")\n",
    "    ax.plot(pd.concat([df_depo[\"X\"], df2[\"X\"], df_depo[\"X\"]]), pd.concat([df_depo[\"Y\"], df2[\"Y\"], df_depo[\"Y\"]]), c=\"blue\")\n",
    "    ax.plot(pd.concat([df_depo[\"X\"], df3[\"X\"], df_depo[\"X\"]]), pd.concat([df_depo[\"Y\"], df3[\"Y\"], df_depo[\"Y\"]]), c=\"green\")\n",
    "    x_lim, y_lim = max(abs(df[\"X\"])), max(abs(df[\"Y\"]))\n",
    "    x_lim *= 1.2\n",
    "    y_lim *= 1.2\n",
    "    ax.set_xlim(-x_lim, x_lim)\n",
    "    ax.set_ylim(-y_lim, y_lim)\n",
    "    ax.set_xlabel(\"X\")\n",
    "    ax.set_ylabel(\"Y\")\n",
    "    ax.set_title(\"会社の位置（訪問順）\")\n",
    "    ax.grid()\n",
    "\n",
    "    return df1, df2, df3"
   ]
  },
  {
   "cell_type": "code",
   "execution_count": 10,
   "metadata": {},
   "outputs": [
    {
     "name": "stdout",
     "output_type": "stream",
     "text": [
      "1: [1, 4, 7, 10, 13, 16, 19, 22, 25, 28, 31, 34, 37, 40, 43, 46, 49, 52, 55, 58, 61, 64, 67, 70, 73, 76, 79, 82, 85, 88, 91, 94, 97, 100]\n",
      "2: [2, 5, 8, 11, 14, 17, 20, 23, 26, 29, 32, 35, 38, 41, 44, 47, 50, 53, 56, 59, 62, 65, 68, 71, 74, 77, 80, 83, 86, 89, 92, 95, 98]\n",
      "3: [3, 6, 9, 12, 15, 18, 21, 24, 27, 30, 33, 36, 39, 42, 45, 48, 51, 54, 57, 60, 63, 66, 69, 72, 75, 78, 81, 84, 87, 90, 93, 96, 99]\n",
      "259592.1405093539\n"
     ]
    },
    {
     "data": {
      "image/png": "[encoded data removed]",
      "text/plain": [
       "<Figure size 432x288 with 1 Axes>"
      ]
     },
     "metadata": {
      "needs_background": "light"
     },
     "output_type": "display_data"
    }
   ],
   "source": [
    "# 初期解作成\n",
    "# res[k]：営業kの会社訪問順リスト\n",
    "res = {k: [] for k in SALES}\n",
    "# 会社を営業人数分均等に分ける\n",
    "k = 0\n",
    "for i in COMPANIES:\n",
    "    res[k+1].append(i)\n",
    "    k = (k+1) % SALES_CNT\n",
    "obj = get_obj(res)\n",
    "\n",
    "# 結果出力\n",
    "for k in SALES:\n",
    "    print(f\"{k}: {res[k]}\")\n",
    "print(obj)\n",
    "df1, df2, df3 = show_result(res)"
   ]
  },
  {
   "cell_type": "markdown",
   "metadata": {},
   "source": [
    "初期解を可視化したところ、各営業が色々な会社に訪問していることが分かります。"
   ]
  },
  {
   "cell_type": "markdown",
   "metadata": {},
   "source": [
    "## 3. 近傍操作"
   ]
  },
  {
   "cell_type": "markdown",
   "metadata": {},
   "source": [
    "近傍操作は、解に対してどのような改善を実施したいか考えて作ると良いです。  \n",
    "swap操作以外に、一般的な近傍操作として「insert操作」があります。これは、例えば「営業$k_1$の$i_1$番目に訪問する会社を営業$k_2$の$i_2 \\sim i_2+1$番目間に挿入する」を行う操作です。"
   ]
  },
  {
   "cell_type": "markdown",
   "metadata": {},
   "source": [
    "## 4. 求解手法"
   ]
  },
  {
   "cell_type": "markdown",
   "metadata": {},
   "source": [
    "求解手法として、局所探索法以外に「シミュレーテッドアニーリング法」、「タブー探索法」などがあります。\n",
    "\n",
    "「シミュレーテッドアニーリング法」では、改悪の場合も確率的に解の遷移を許容します。このときの遷移確率は「温度」と呼ばれるパラメータで管理され、温度が高い場合は遷移確率も高く、温度が低い場合は遷移確率も低くなります。以下に「シミュレーテッドアニーリング法」のアルゴリズムを示します。\n",
    "\n",
    "1. 初期解$\\boldsymbol{\\sigma}$を生成する。\n",
    "2. 初期温度$T$を設定する。\n",
    "3. 温度$T$が下がりきるまで以下を実施する。\n",
    "   1. 近傍解$\\boldsymbol{\\sigma}^{\\prime}$を生成する。\n",
    "   2. 現在解$\\boldsymbol{\\sigma}$より近傍解$\\boldsymbol{\\sigma}^{\\prime}$の方が良い場合、現在解を$\\boldsymbol{\\sigma}^{\\prime}$に置き換える。\n",
    "   3. 現在解$\\boldsymbol{\\sigma}$より近傍解$\\boldsymbol{\\sigma}^{\\prime}$の方が悪い場合、確率的に現在解を$\\boldsymbol{\\sigma}^{\\prime}$に置き換える。  \n",
    "      遷移確率として、$\\exp{\\left(-\\Delta E/T\\right)}$がよく使用されます。ここで、$\\Delta E$は現在解と近傍解の評価関数値の差の絶対値を表します。\n",
    "4. 最良解$\\boldsymbol{\\sigma}$を出力する。\n",
    "\n",
    "「タブー探索法」では、改悪の場合も解の遷移を許容します。このとき、いくつかの解を経由して元の解に戻ってしまうこと（サイクリング）を防ぐため、「タブーリスト」と呼ばれる解集合に含まれる解（禁止解）への遷移は禁止します。以下に「タブー探索法」のアルゴリズムを示します。\n",
    "\n",
    "1. 初期解$\\boldsymbol{\\sigma}$を生成する。\n",
    "2. 一定時間以下を実施する。\n",
    "   1. 近傍解を複数生成し、その中で禁止解を除く最良解$\\boldsymbol{\\sigma}^{\\prime}$を見つける。\n",
    "   3. 現在解を$\\boldsymbol{\\sigma}^{\\prime}$に置き換える。\n",
    "3. 最良解$\\boldsymbol{\\sigma}$を出力する。"
   ]
  }
 ],
 "metadata": {
  "interpreter": {
   "hash": "f559f83d704bbaf9226605e29bdf21b91d73fa7c306d5665a55189d1d65c211e"
  },
  "kernelspec": {
   "display_name": "Python 3",
   "language": "python",
   "name": "python3"
  },
  "language_info": {
   "codemirror_mode": {
    "name": "ipython",
    "version": 3
   },
   "file_extension": ".py",
   "mimetype": "text/x-python",
   "name": "python",
   "nbconvert_exporter": "python",
   "pygments_lexer": "ipython3",
   "version": "3.5.6"
  }
 },
 "nbformat": 4,
 "nbformat_minor": 4
}
