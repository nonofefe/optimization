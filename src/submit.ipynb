{
 "cells": [
  {
   "cell_type": "markdown",
   "metadata": {},
   "source": [
    "# 提出用ファイル作成"
   ]
  },
  {
   "cell_type": "markdown",
   "metadata": {},
   "source": [
    "解の確認と提出用ファイルの作成を行います。"
   ]
  },
  {
   "cell_type": "markdown",
   "metadata": {},
   "source": [
    "### パッケージ読み込み"
   ]
  },
  {
   "cell_type": "code",
   "execution_count": 1,
   "metadata": {},
   "outputs": [],
   "source": [
    "from __future__ import annotations\n",
    "import pandas as pd\n",
    "import math"
   ]
  },
  {
   "cell_type": "markdown",
   "metadata": {},
   "source": [
    "### 入力データ読み込み"
   ]
  },
  {
   "cell_type": "code",
   "execution_count": 2,
   "metadata": {},
   "outputs": [
    {
     "data": {
      "text/html": [
       "<div>\n",
       "<style scoped>\n",
       "    .dataframe tbody tr th:only-of-type {\n",
       "        vertical-align: middle;\n",
       "    }\n",
       "\n",
       "    .dataframe tbody tr th {\n",
       "        vertical-align: top;\n",
       "    }\n",
       "\n",
       "    .dataframe thead th {\n",
       "        text-align: right;\n",
       "    }\n",
       "</style>\n",
       "<table border=\"1\" class=\"dataframe\">\n",
       "  <thead>\n",
       "    <tr style=\"text-align: right;\">\n",
       "      <th></th>\n",
       "      <th>X</th>\n",
       "      <th>Y</th>\n",
       "      <th>EPT</th>\n",
       "      <th>FPT</th>\n",
       "      <th>PT</th>\n",
       "      <th>PW</th>\n",
       "    </tr>\n",
       "    <tr>\n",
       "      <th>CID</th>\n",
       "      <th></th>\n",
       "      <th></th>\n",
       "      <th></th>\n",
       "      <th></th>\n",
       "      <th></th>\n",
       "      <th></th>\n",
       "    </tr>\n",
       "  </thead>\n",
       "  <tbody>\n",
       "    <tr>\n",
       "      <th>1</th>\n",
       "      <td>5</td>\n",
       "      <td>15</td>\n",
       "      <td>118</td>\n",
       "      <td>278</td>\n",
       "      <td>90</td>\n",
       "      <td>20</td>\n",
       "    </tr>\n",
       "    <tr>\n",
       "      <th>2</th>\n",
       "      <td>-7</td>\n",
       "      <td>-15</td>\n",
       "      <td>2573</td>\n",
       "      <td>2733</td>\n",
       "      <td>90</td>\n",
       "      <td>10</td>\n",
       "    </tr>\n",
       "    <tr>\n",
       "      <th>3</th>\n",
       "      <td>-15</td>\n",
       "      <td>35</td>\n",
       "      <td>2119</td>\n",
       "      <td>2279</td>\n",
       "      <td>90</td>\n",
       "      <td>20</td>\n",
       "    </tr>\n",
       "    <tr>\n",
       "      <th>4</th>\n",
       "      <td>-17</td>\n",
       "      <td>2</td>\n",
       "      <td>209</td>\n",
       "      <td>369</td>\n",
       "      <td>90</td>\n",
       "      <td>10</td>\n",
       "    </tr>\n",
       "    <tr>\n",
       "      <th>5</th>\n",
       "      <td>25</td>\n",
       "      <td>10</td>\n",
       "      <td>1546</td>\n",
       "      <td>1706</td>\n",
       "      <td>90</td>\n",
       "      <td>30</td>\n",
       "    </tr>\n",
       "  </tbody>\n",
       "</table>\n",
       "</div>"
      ],
      "text/plain": [
       "      X   Y   EPT   FPT  PT  PW\n",
       "CID                            \n",
       "1     5  15   118   278  90  20\n",
       "2    -7 -15  2573  2733  90  10\n",
       "3   -15  35  2119  2279  90  20\n",
       "4   -17   2   209   369  90  10\n",
       "5    25  10  1546  1706  90  30"
      ]
     },
     "execution_count": 2,
     "metadata": {},
     "output_type": "execute_result"
    }
   ],
   "source": [
    "# データ読み込み\n",
    "df = pd.read_csv(\"../data/in/companies.csv\", index_col=0)\n",
    "df.head()"
   ]
  },
  {
   "cell_type": "markdown",
   "metadata": {},
   "source": [
    "### 定数の定義"
   ]
  },
  {
   "cell_type": "code",
   "execution_count": 3,
   "metadata": {},
   "outputs": [],
   "source": [
    "# 定数\n",
    "# 会社リスト\n",
    "COMPANIES = df.index.tolist()\n",
    "# 会社数\n",
    "COMPANY_CNT = len(COMPANIES)\n",
    "# 営業リスト\n",
    "SALES = [1, 2, 3]\n",
    "# 営業の人数\n",
    "SALES_CNT = len(SALES)\n",
    "# 営業のカバン容量\n",
    "SALES_CAPACITY = 700"
   ]
  },
  {
   "cell_type": "markdown",
   "metadata": {},
   "source": [
    "### 評価関数値を取得する関数を定義"
   ]
  },
  {
   "cell_type": "code",
   "execution_count": 4,
   "metadata": {},
   "outputs": [],
   "source": [
    "def get_obj(res: dict[int, list[int]]) -> float:\n",
    "    \"\"\"\n",
    "    解の評価関数値を取得する.\n",
    "\n",
    "    Args:\n",
    "        res (dict[int, list[int]]): 解\n",
    "\n",
    "    Returns:\n",
    "        float: 評価関数値\n",
    "    \"\"\"\n",
    "    obj = 0\n",
    "    for k in SALES:\n",
    "        t = 0\n",
    "        penalty = 0\n",
    "        spw = 0\n",
    "        # スタート地点（原点）\n",
    "        prev_x, prev_y = 0, 0\n",
    "        for i in res[k]:\n",
    "            # 業務時間\n",
    "            x, y = df.at[i, \"X\"], df.at[i, \"Y\"]\n",
    "            diff_x, diff_y = abs(x - prev_x), abs(y - prev_y)\n",
    "            t += math.sqrt(diff_x*diff_x + diff_y*diff_y)\n",
    "\n",
    "            # プレゼン時間に関するペナルティ\n",
    "            ept, fpt, pt = df.at[i, \"EPT\"], df.at[i, \"FPT\"], df.at[i, \"PT\"]\n",
    "            penalty += max(ept-t, 0)\n",
    "            penalty += 2*max(0, (t+pt)-fpt)\n",
    "\n",
    "            # プレゼン時間を追加\n",
    "            t += pt\n",
    "\n",
    "            # 訪問する会社のプレゼン資料の総重量\n",
    "            pw = df.at[i, \"PW\"]\n",
    "            spw += pw\n",
    "\n",
    "            prev_x, prev_y = x, y\n",
    "        # 最後に訪問する会社からゴール地点（原点）への業務時間\n",
    "        x, y = 0, 0\n",
    "        diff_x, diff_y = abs(x - prev_x), abs(y - prev_y)\n",
    "        t += math.sqrt(diff_x*diff_x + diff_y*diff_y)\n",
    "\n",
    "        # カバン容量に関するペナルティ\n",
    "        penalty += 10*max(0, spw-SALES_CAPACITY)\n",
    "\n",
    "        obj += t + penalty\n",
    "    return obj"
   ]
  },
  {
   "cell_type": "markdown",
   "metadata": {},
   "source": [
    "### 解の作成"
   ]
  },
  {
   "cell_type": "markdown",
   "metadata": {},
   "source": [
    "結果ファイルより解を作成します。  \n",
    "**\"RESULT_FILE_NAME\"を各自が作成した求解結果に変更してください。**"
   ]
  },
  {
   "cell_type": "code",
   "execution_count": 5,
   "metadata": {},
   "outputs": [
    {
     "data": {
      "text/html": [
       "<div>\n",
       "<style scoped>\n",
       "    .dataframe tbody tr th:only-of-type {\n",
       "        vertical-align: middle;\n",
       "    }\n",
       "\n",
       "    .dataframe tbody tr th {\n",
       "        vertical-align: top;\n",
       "    }\n",
       "\n",
       "    .dataframe thead th {\n",
       "        text-align: right;\n",
       "    }\n",
       "</style>\n",
       "<table border=\"1\" class=\"dataframe\">\n",
       "  <thead>\n",
       "    <tr style=\"text-align: right;\">\n",
       "      <th></th>\n",
       "      <th>SID</th>\n",
       "      <th>CID</th>\n",
       "    </tr>\n",
       "  </thead>\n",
       "  <tbody>\n",
       "    <tr>\n",
       "      <th>0</th>\n",
       "      <td>1</td>\n",
       "      <td>80</td>\n",
       "    </tr>\n",
       "    <tr>\n",
       "      <th>1</th>\n",
       "      <td>1</td>\n",
       "      <td>4</td>\n",
       "    </tr>\n",
       "    <tr>\n",
       "      <th>2</th>\n",
       "      <td>1</td>\n",
       "      <td>92</td>\n",
       "    </tr>\n",
       "    <tr>\n",
       "      <th>3</th>\n",
       "      <td>1</td>\n",
       "      <td>45</td>\n",
       "    </tr>\n",
       "    <tr>\n",
       "      <th>4</th>\n",
       "      <td>1</td>\n",
       "      <td>17</td>\n",
       "    </tr>\n",
       "  </tbody>\n",
       "</table>\n",
       "</div>"
      ],
      "text/plain": [
       "   SID  CID\n",
       "0    1   80\n",
       "1    1    4\n",
       "2    1   92\n",
       "3    1   45\n",
       "4    1   17"
      ]
     },
     "execution_count": 5,
     "metadata": {},
     "output_type": "execute_result"
    }
   ],
   "source": [
    "# 結果ファイル読み込み\n",
    "RESULT_FILE_NAME = \"../data/out/sample_res.csv\"\n",
    "df_res = pd.read_csv(RESULT_FILE_NAME)\n",
    "\n",
    "# カラムチェック\n",
    "if df_res.columns.tolist() != [\"SID\", \"CID\"]:\n",
    "    print(\"カラムが異なります。\")\n",
    "\n",
    "df_res.head()"
   ]
  },
  {
   "cell_type": "code",
   "execution_count": 6,
   "metadata": {},
   "outputs": [
    {
     "name": "stdout",
     "output_type": "stream",
     "text": [
      "1: [80, 4, 92, 45, 17, 13, 53, 43, 100, 76, 55, 62, 81, 58, 98, 84, 99, 28, 90, 20, 72, 77, 66, 48, 32, 87, 71, 36, 96, 41, 22, 39, 10, 89]\n",
      "2: [1, 63, 69, 11, 74, 86, 16, 68, 82, 94, 93, 35, 12, 61, 75, 65, 73, 8, 83, 88, 56, 50, 64, 40, 23, 91, 2, 21, 26, 44, 34, 78, 37]\n",
      "3: [59, 46, 57, 38, 7, 30, 9, 31, 27, 5, 95, 49, 25, 42, 24, 19, 47, 54, 85, 52, 70, 97, 67, 51, 18, 29, 3, 6, 15, 33, 14, 79, 60]\n",
      "97947.1263979882\n"
     ]
    }
   ],
   "source": [
    "# 解作成\n",
    "res = {k: [] for k in SALES}\n",
    "for i in range(COMPANY_CNT):\n",
    "    sid = df_res.at[i, \"SID\"]\n",
    "    cid = df_res.at[i, \"CID\"]\n",
    "    res[sid].append(cid)\n",
    "obj = get_obj(res)\n",
    "\n",
    "# 結果出力\n",
    "for k in SALES:\n",
    "    print(f\"{k}: {res[k]}\")\n",
    "print(obj)"
   ]
  },
  {
   "cell_type": "markdown",
   "metadata": {},
   "source": [
    "### 解の確認"
   ]
  },
  {
   "cell_type": "code",
   "execution_count": 7,
   "metadata": {},
   "outputs": [],
   "source": [
    "# 結果チェック\n",
    "# 営業の存在確認\n",
    "for k in res.keys():\n",
    "    if not k in SALES:\n",
    "        print(f\"営業{k}は存在しません。\")\n",
    "# 会社の存在確認\n",
    "for v in res.values():\n",
    "    for i in v:\n",
    "        if not i in COMPANIES:\n",
    "            print(f\"会社{i}は存在しません。\")\n",
    "# 会社の訪問数確認\n",
    "company_cnt = sum(len(v) for v in res.values())\n",
    "if company_cnt != COMPANY_CNT:\n",
    "    print(\"会社の訪問数が会社数と一致しません。\")\n",
    "# 会社の訪問過不足確認\n",
    "for i in COMPANIES:\n",
    "    has_company = False\n",
    "    for v in res.values():\n",
    "        if i in v:\n",
    "            has_company = True\n",
    "    if not has_company:\n",
    "        print(f\"会社{i}を訪問していません。\")"
   ]
  },
  {
   "cell_type": "markdown",
   "metadata": {},
   "source": [
    "### 提出用ファイルの作成"
   ]
  },
  {
   "cell_type": "markdown",
   "metadata": {},
   "source": [
    "提出用ファイルフォーマットは、「評価関数値_名前.csv」とする。  \n",
    "**\"USER_NAME\"を各自の名前に変更してください。**"
   ]
  },
  {
   "cell_type": "code",
   "execution_count": 8,
   "metadata": {},
   "outputs": [],
   "source": [
    "# 提出用ファイル作成\n",
    "USER_NAME = \"username\"\n",
    "l = []\n",
    "for k in SALES:\n",
    "    for i in res[k]:\n",
    "        l.append([k, i])\n",
    "sub = pd.DataFrame(l, columns=(\"SID\", \"CID\"))\n",
    "# 小数点回避のため、1000倍（小数点以下3桁）した値をファイル名に使用\n",
    "sub.to_csv(f\"../data/out/{int(1000*obj)}_{USER_NAME}.csv\", index=None)"
   ]
  }
 ],
 "metadata": {
  "interpreter": {
   "hash": "f559f83d704bbaf9226605e29bdf21b91d73fa7c306d5665a55189d1d65c211e"
  },
  "kernelspec": {
   "display_name": "Python 3",
   "language": "python",
   "name": "python3"
  },
  "language_info": {
   "codemirror_mode": {
    "name": "ipython",
    "version": 3
   },
   "file_extension": ".py",
   "mimetype": "text/x-python",
   "name": "python",
   "nbconvert_exporter": "python",
   "pygments_lexer": "ipython3",
   "version": "3.5.6"
  }
 },
 "nbformat": 4,
 "nbformat_minor": 4
}
