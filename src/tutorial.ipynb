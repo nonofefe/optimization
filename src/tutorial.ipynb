{
 "cells": [
  {
   "cell_type": "markdown",
   "metadata": {},
   "source": [
    "# チュートリアル"
   ]
  },
  {
   "cell_type": "markdown",
   "metadata": {},
   "source": [
    "## 組合せ最適化とは"
   ]
  },
  {
   "cell_type": "markdown",
   "metadata": {},
   "source": [
    "組合せ最適化とは\n",
    "\n",
    "1. **多数の組合せの選択肢**の中から\n",
    "2. **制約条件**を満たしつつ、\n",
    "3. **目的関数**の一番良い組合せを\n",
    "\n",
    "選び出す問題（組合せ最適化問題）を解く技術です。  \n",
    "製造・物流スケジューリング等に幅広く利用されています。\n",
    "\n",
    "以下に身近な組合せ最適化問題の例を記載します。  \n",
    "例1）遠足のお菓子選択\n",
    "\n",
    "1. **たくさんのお菓子**の中から\n",
    "2. **合計300円以内**で、\n",
    "3. **自分が最も満足**のいく\n",
    "\n",
    "お菓子の組合せを選ぶ。  \n",
    "例2）出張の移動経路選択\n",
    "\n",
    "1. **複数の移動経路**の中から\n",
    "2. **移動時間4時間以内**で、\n",
    "3. **自分が最も満足**のいく\n",
    "\n",
    "経路の組合せを選ぶ。\n",
    "\n",
    "本テーマでは、演習問題を通じて組合せ最適化技術を体験して頂きます。"
   ]
  },
  {
   "cell_type": "markdown",
   "metadata": {},
   "source": [
    "## 演習問題"
   ]
  },
  {
   "cell_type": "markdown",
   "metadata": {},
   "source": [
    "会社$100$社を営業$3$人が訪問し、プレゼンを実施します。各営業のカバンの容量は$700$です。  \n",
    "$i$番目の会社の番号$CID_i$、位置$\\left(X_i, Y_i\\right)$、プレゼン希望時間帯$\\left[EPT_i, LPT_i\\right]$、プレゼン時間$PT_i$、プレゼン資料重量$PW_i$が与えられたとき、以下の評価関数が最小となるような各営業の会社訪問順序を求めてください。  \n",
    "ただし、各会社には営業1人が必ず1回のみ訪問します。\n",
    "\n",
    "$$\n",
    "    \\text{評価関数} = \\text{総業務時間} + \\text{ペナルティ}\n",
    "$$\n",
    "\n",
    "各営業のスタート・ゴール地点を$(0, 0)$、移動距離をユークリッド距離（=業務時間）とします。  \n",
    "会社$i$のプレゼン開始時間を$t_i$、営業$k$が訪問する会社のプレゼン資料の総重量を$spw_k$としたとき、\n",
    "\n",
    "- プレゼン希望時間帯よりも早くプレゼンを開始した場合、その時間をペナルティとして追加\n",
    "    $$\n",
    "        \\text{ペナルティ} = \\max{\\left\\{EPT_i - t_i, 0\\right\\}}\n",
    "    $$\n",
    "- プレゼン希望時間帯よりも遅くプレゼンが終了した場合、その時間の2倍をペナルティとして追加\n",
    "    $$\n",
    "        \\text{ペナルティ} = 2\\times\\max{\\left\\{\\left(t_i+PT_i\\right)-FPT_i, 0\\right\\}}\n",
    "    $$\n",
    "- 訪問する会社のプレゼン資料の総重量よりカバン容量が小さかった場合、不足分の10倍をペナルティとして追加\n",
    "    $$\n",
    "        \\text{ペナルティ} = 10\\times\\max{\\left\\{spw_k - 700, 0\\right\\}}\n",
    "    $$\n",
    "\n",
    "します。"
   ]
  },
  {
   "cell_type": "markdown",
   "metadata": {},
   "source": [
    "上記は、\n",
    "\n",
    "1. **各営業がすべての会社をちょうど1回ずつ訪問するような経路**の中から\n",
    "2. **制約条件**を満たしつつ、\n",
    "3. **評価関数**が最小となる\n",
    "\n",
    "各営業の経路を求める問題と言い換えることができます。  \n",
    "この問題は代表的な組合せ最適化問題の一つで、「配送計画問題」と呼ばれています。  \n",
    "ただし、本演習問題では一般的な配送計画問題とは異なる設定にしていることに注意してください。"
   ]
  },
  {
   "cell_type": "markdown",
   "metadata": {},
   "source": [
    "## サンプルコード"
   ]
  },
  {
   "cell_type": "markdown",
   "metadata": {},
   "source": [
    "ここでは、局所探索法を用いた求解を紹介します。\n",
    "\n",
    "局所探索法とは、与えられた初期解から始めて、現在解$\\boldsymbol{\\sigma}$の近傍内に$\\boldsymbol{\\sigma}$より良い解があればそれに置き換える、という操作を繰り返し実施します。  \n",
    "現在解から近傍内の解を生成する操作は「近傍操作」と呼ばれます。また、最終的な解は近傍内に自分より良い解が存在しない状態となり、この解は「局所最適解」と呼ばれます。\n",
    "\n",
    "以下に、局所探索法のアルゴリズムを示します。\n",
    "\n",
    "1. 初期解$\\boldsymbol{\\sigma}$を生成する。\n",
    "2. 改善がなくなるまで以下を実施する。\n",
    "   1. 近傍解$\\boldsymbol{\\sigma}^{\\prime}$を生成する。\n",
    "   2. 現在解$\\boldsymbol{\\sigma}$より近傍解$\\boldsymbol{\\sigma}^{\\prime}$の方が良い場合、現在解を$\\boldsymbol{\\sigma}^{\\prime}$に置き換える。\n",
    "3. 現在解$\\boldsymbol{\\sigma}$を出力する。"
   ]
  },
  {
   "cell_type": "markdown",
   "metadata": {},
   "source": [
    "### パッケージ読み込み"
   ]
  },
  {
   "cell_type": "code",
   "execution_count": 1,
   "metadata": {},
   "outputs": [
    {
     "ename": "ModuleNotFoundError",
     "evalue": "No module named 'pandas'",
     "output_type": "error",
     "traceback": [
      "\u001b[0;31m---------------------------------------------------------------------------\u001b[0m",
      "\u001b[0;31mModuleNotFoundError\u001b[0m                       Traceback (most recent call last)",
      "\u001b[1;32m/Users/yoshikawajunpei/Documents/20220428_演習問題/src/tutorial.ipynb Cell 10'\u001b[0m in \u001b[0;36m<cell line: 3>\u001b[0;34m()\u001b[0m\n\u001b[1;32m      <a href='vscode-notebook-cell:/Users/yoshikawajunpei/Documents/20220428_%E6%BC%94%E7%BF%92%E5%95%8F%E9%A1%8C/src/tutorial.ipynb#ch0000009?line=0'>1</a>\u001b[0m \u001b[39m# パッケージ読み込み\u001b[39;00m\n\u001b[1;32m      <a href='vscode-notebook-cell:/Users/yoshikawajunpei/Documents/20220428_%E6%BC%94%E7%BF%92%E5%95%8F%E9%A1%8C/src/tutorial.ipynb#ch0000009?line=1'>2</a>\u001b[0m \u001b[39mfrom\u001b[39;00m \u001b[39m__future__\u001b[39;00m \u001b[39mimport\u001b[39;00m annotations\n\u001b[0;32m----> <a href='vscode-notebook-cell:/Users/yoshikawajunpei/Documents/20220428_%E6%BC%94%E7%BF%92%E5%95%8F%E9%A1%8C/src/tutorial.ipynb#ch0000009?line=2'>3</a>\u001b[0m \u001b[39mimport\u001b[39;00m \u001b[39mpandas\u001b[39;00m \u001b[39mas\u001b[39;00m \u001b[39mpd\u001b[39;00m\n\u001b[1;32m      <a href='vscode-notebook-cell:/Users/yoshikawajunpei/Documents/20220428_%E6%BC%94%E7%BF%92%E5%95%8F%E9%A1%8C/src/tutorial.ipynb#ch0000009?line=3'>4</a>\u001b[0m \u001b[39mimport\u001b[39;00m \u001b[39mmath\u001b[39;00m\n\u001b[1;32m      <a href='vscode-notebook-cell:/Users/yoshikawajunpei/Documents/20220428_%E6%BC%94%E7%BF%92%E5%95%8F%E9%A1%8C/src/tutorial.ipynb#ch0000009?line=4'>5</a>\u001b[0m \u001b[39mimport\u001b[39;00m \u001b[39mrandom\u001b[39;00m\n",
      "\u001b[0;31mModuleNotFoundError\u001b[0m: No module named 'pandas'"
     ]
    }
   ],
   "source": [
    "# パッケージ読み込み\n",
    "from __future__ import annotations\n",
    "import pandas as pd\n",
    "import math\n",
    "import random\n",
    "import copy\n",
    "\n",
    "# 乱数シードを固定\n",
    "random.seed(20220428)"
   ]
  },
  {
   "cell_type": "markdown",
   "metadata": {},
   "source": [
    "### 入力データ読み込み"
   ]
  },
  {
   "cell_type": "code",
   "execution_count": 2,
   "metadata": {},
   "outputs": [
    {
     "data": {
      "text/html": [
       "<div>\n",
       "<style scoped>\n",
       "    .dataframe tbody tr th:only-of-type {\n",
       "        vertical-align: middle;\n",
       "    }\n",
       "\n",
       "    .dataframe tbody tr th {\n",
       "        vertical-align: top;\n",
       "    }\n",
       "\n",
       "    .dataframe thead th {\n",
       "        text-align: right;\n",
       "    }\n",
       "</style>\n",
       "<table border=\"1\" class=\"dataframe\">\n",
       "  <thead>\n",
       "    <tr style=\"text-align: right;\">\n",
       "      <th></th>\n",
       "      <th>X</th>\n",
       "      <th>Y</th>\n",
       "      <th>EPT</th>\n",
       "      <th>FPT</th>\n",
       "      <th>PT</th>\n",
       "      <th>PW</th>\n",
       "    </tr>\n",
       "    <tr>\n",
       "      <th>CID</th>\n",
       "      <th></th>\n",
       "      <th></th>\n",
       "      <th></th>\n",
       "      <th></th>\n",
       "      <th></th>\n",
       "      <th></th>\n",
       "    </tr>\n",
       "  </thead>\n",
       "  <tbody>\n",
       "    <tr>\n",
       "      <th>1</th>\n",
       "      <td>5</td>\n",
       "      <td>15</td>\n",
       "      <td>118</td>\n",
       "      <td>278</td>\n",
       "      <td>90</td>\n",
       "      <td>20</td>\n",
       "    </tr>\n",
       "    <tr>\n",
       "      <th>2</th>\n",
       "      <td>-7</td>\n",
       "      <td>-15</td>\n",
       "      <td>2573</td>\n",
       "      <td>2733</td>\n",
       "      <td>90</td>\n",
       "      <td>10</td>\n",
       "    </tr>\n",
       "    <tr>\n",
       "      <th>3</th>\n",
       "      <td>-15</td>\n",
       "      <td>35</td>\n",
       "      <td>2119</td>\n",
       "      <td>2279</td>\n",
       "      <td>90</td>\n",
       "      <td>20</td>\n",
       "    </tr>\n",
       "    <tr>\n",
       "      <th>4</th>\n",
       "      <td>-17</td>\n",
       "      <td>2</td>\n",
       "      <td>209</td>\n",
       "      <td>369</td>\n",
       "      <td>90</td>\n",
       "      <td>10</td>\n",
       "    </tr>\n",
       "    <tr>\n",
       "      <th>5</th>\n",
       "      <td>25</td>\n",
       "      <td>10</td>\n",
       "      <td>1546</td>\n",
       "      <td>1706</td>\n",
       "      <td>90</td>\n",
       "      <td>30</td>\n",
       "    </tr>\n",
       "  </tbody>\n",
       "</table>\n",
       "</div>"
      ],
      "text/plain": [
       "      X   Y   EPT   FPT  PT  PW\n",
       "CID                            \n",
       "1     5  15   118   278  90  20\n",
       "2    -7 -15  2573  2733  90  10\n",
       "3   -15  35  2119  2279  90  20\n",
       "4   -17   2   209   369  90  10\n",
       "5    25  10  1546  1706  90  30"
      ]
     },
     "execution_count": 2,
     "metadata": {},
     "output_type": "execute_result"
    }
   ],
   "source": [
    "# 入力データ読み込み\n",
    "df = pd.read_csv(\"../data/in/companies.csv\", index_col=0)\n",
    "df.head()"
   ]
  },
  {
   "cell_type": "markdown",
   "metadata": {},
   "source": [
    "### 定数の定義"
   ]
  },
  {
   "cell_type": "code",
   "execution_count": 3,
   "metadata": {},
   "outputs": [],
   "source": [
    "# 定数\n",
    "# 会社リスト\n",
    "COMPANIES = df.index.tolist()\n",
    "# 会社数\n",
    "COMPANY_CNT = len(COMPANIES)\n",
    "# 営業リスト\n",
    "SALES = [1, 2, 3]\n",
    "# 営業の人数\n",
    "SALES_CNT = len(SALES)\n",
    "# 営業のカバン容量\n",
    "SALES_CAPACITY = 700"
   ]
  },
  {
   "cell_type": "markdown",
   "metadata": {},
   "source": [
    "### 評価関数値を取得する関数を定義"
   ]
  },
  {
   "cell_type": "code",
   "execution_count": 4,
   "metadata": {},
   "outputs": [],
   "source": [
    "def get_obj(res: dict[int, list[int]]) -> float:\n",
    "    \"\"\"\n",
    "    解の評価関数値を取得する.\n",
    "\n",
    "    Args:\n",
    "        res (dict[int, list[int]]): 解\n",
    "\n",
    "    Returns:\n",
    "        float: 評価関数値\n",
    "    \"\"\"\n",
    "    obj = 0\n",
    "    for k in SALES:\n",
    "        t = 0\n",
    "        penalty = 0\n",
    "        spw = 0\n",
    "        # スタート地点（原点）\n",
    "        prev_x, prev_y = 0, 0\n",
    "        for i in res[k]:\n",
    "            # 業務時間\n",
    "            x, y = df.at[i, \"X\"], df.at[i, \"Y\"]\n",
    "            diff_x, diff_y = abs(x - prev_x), abs(y - prev_y)\n",
    "            t += math.sqrt(diff_x*diff_x + diff_y*diff_y)\n",
    "\n",
    "            # プレゼン時間に関するペナルティ\n",
    "            ept, fpt, pt = df.at[i, \"EPT\"], df.at[i, \"FPT\"], df.at[i, \"PT\"]\n",
    "            penalty += max(ept-t, 0)\n",
    "            penalty += 2*max(0, (t+pt)-fpt)\n",
    "\n",
    "            # プレゼン時間を追加\n",
    "            t += pt\n",
    "\n",
    "            # 訪問する会社のプレゼン資料の総重量\n",
    "            pw = df.at[i, \"PW\"]\n",
    "            spw += pw\n",
    "\n",
    "            prev_x, prev_y = x, y\n",
    "        # 最後に訪問する会社からゴール地点（原点）への業務時間\n",
    "        x, y = 0, 0\n",
    "        diff_x, diff_y = abs(x - prev_x), abs(y - prev_y)\n",
    "        t += math.sqrt(diff_x*diff_x + diff_y*diff_y)\n",
    "\n",
    "        # カバン容量に関するペナルティ\n",
    "        penalty += 10*max(0, spw-SALES_CAPACITY)\n",
    "\n",
    "        obj += t + penalty\n",
    "    return obj"
   ]
  },
  {
   "cell_type": "markdown",
   "metadata": {},
   "source": [
    "### 初期解の作成"
   ]
  },
  {
   "cell_type": "markdown",
   "metadata": {},
   "source": [
    "初期解として、各営業に会社を均等に分けます。"
   ]
  },
  {
   "cell_type": "code",
   "execution_count": 5,
   "metadata": {},
   "outputs": [
    {
     "name": "stdout",
     "output_type": "stream",
     "text": [
      "1: [1, 4, 7, 10, 13, 16, 19, 22, 25, 28, 31, 34, 37, 40, 43, 46, 49, 52, 55, 58, 61, 64, 67, 70, 73, 76, 79, 82, 85, 88, 91, 94, 97, 100]\n",
      "2: [2, 5, 8, 11, 14, 17, 20, 23, 26, 29, 32, 35, 38, 41, 44, 47, 50, 53, 56, 59, 62, 65, 68, 71, 74, 77, 80, 83, 86, 89, 92, 95, 98]\n",
      "3: [3, 6, 9, 12, 15, 18, 21, 24, 27, 30, 33, 36, 39, 42, 45, 48, 51, 54, 57, 60, 63, 66, 69, 72, 75, 78, 81, 84, 87, 90, 93, 96, 99]\n",
      "259592.1405093539\n"
     ]
    }
   ],
   "source": [
    "# 初期解作成\n",
    "# res[k]：営業kの会社訪問順リスト\n",
    "res = {k: [] for k in SALES}\n",
    "# 会社を営業人数分均等に分ける\n",
    "k = 0\n",
    "for i in COMPANIES:\n",
    "    res[k+1].append(i)\n",
    "    k = (k+1) % SALES_CNT\n",
    "obj = get_obj(res)\n",
    "\n",
    "# 結果出力\n",
    "for k in SALES:\n",
    "    print(f\"{k}: {res[k]}\")\n",
    "print(obj)"
   ]
  },
  {
   "cell_type": "markdown",
   "metadata": {},
   "source": [
    "### 近傍操作の作成"
   ]
  },
  {
   "cell_type": "markdown",
   "metadata": {},
   "source": [
    "近傍操作として、以下を作成しておきます。\n",
    "\n",
    "- swap: 営業$k_1$の$i_1$番目に訪問する会社と営業$k_2$の$i_2$番目に訪問する会社を入替えます。"
   ]
  },
  {
   "cell_type": "code",
   "execution_count": 6,
   "metadata": {},
   "outputs": [],
   "source": [
    "def swap(res: dict[int, list[int]]):\n",
    "    \"\"\"\n",
    "    swap操作を実施する.\n",
    "\n",
    "    Args:\n",
    "        res (dict[int, list[int]]): 解\n",
    "    \"\"\"\n",
    "    # 営業k1のi1番目に訪問する会社と営業k2のi2番目に訪問する会社を入替える\n",
    "    k1, k2 = random.choices(SALES, k=2)\n",
    "    i1 = random.randrange(len(res[k1]))\n",
    "    i2 = random.randrange(len(res[k2]))\n",
    "    # 同じ営業の同じ会社を入替える場合、何もしない\n",
    "    if k1 == k2 and i1 == i2:\n",
    "        return\n",
    "    res[k1][i1], res[k2][i2] = res[k2][i2], res[k1][i1]"
   ]
  },
  {
   "cell_type": "markdown",
   "metadata": {},
   "source": [
    "### 局所探索法の実施"
   ]
  },
  {
   "cell_type": "markdown",
   "metadata": {},
   "source": [
    "局所探索法により解の改善を図ります。"
   ]
  },
  {
   "cell_type": "code",
   "execution_count": 7,
   "metadata": {},
   "outputs": [
    {
     "name": "stdout",
     "output_type": "stream",
     "text": [
      "1: [80, 4, 92, 45, 17, 13, 53, 43, 100, 76, 55, 62, 81, 58, 98, 84, 99, 28, 90, 20, 72, 77, 66, 48, 32, 87, 71, 36, 96, 41, 22, 39, 10, 89]\n",
      "2: [1, 63, 69, 11, 74, 86, 16, 68, 82, 94, 93, 35, 12, 61, 75, 65, 73, 8, 83, 88, 56, 50, 64, 40, 23, 91, 2, 21, 26, 44, 34, 78, 37]\n",
      "3: [59, 46, 57, 38, 7, 30, 9, 31, 27, 5, 95, 49, 25, 42, 24, 19, 47, 54, 85, 52, 70, 97, 67, 51, 18, 29, 3, 6, 15, 33, 14, 79, 60]\n",
      "97947.1263979882\n"
     ]
    }
   ],
   "source": [
    "SEARCH_CNT = int(1e3)\n",
    "for _ in range(SEARCH_CNT):\n",
    "    nbhd_res = copy.deepcopy(res)\n",
    "    # 近傍操作\n",
    "    swap(nbhd_res)\n",
    "    nbhd_obj = get_obj(nbhd_res)\n",
    "    # 改善した場合、解を更新\n",
    "    if nbhd_obj < obj:\n",
    "        res = nbhd_res\n",
    "        obj = nbhd_obj\n",
    "\n",
    "# 結果出力\n",
    "for k in SALES:\n",
    "    print(f\"{k}: {res[k]}\")\n",
    "print(obj)"
   ]
  },
  {
   "cell_type": "markdown",
   "metadata": {},
   "source": [
    "### 解の確認"
   ]
  },
  {
   "cell_type": "code",
   "execution_count": 8,
   "metadata": {},
   "outputs": [],
   "source": [
    "# 結果チェック\n",
    "# 営業の存在確認\n",
    "for k in res.keys():\n",
    "    if not k in SALES:\n",
    "        print(f\"営業{k}は存在しません。\")\n",
    "# 会社の存在確認\n",
    "for v in res.values():\n",
    "    for i in v:\n",
    "        if not i in COMPANIES:\n",
    "            print(f\"会社{i}は存在しません。\")\n",
    "# 会社の訪問数確認\n",
    "company_cnt = sum(len(v) for v in res.values())\n",
    "if company_cnt != COMPANY_CNT:\n",
    "    print(\"会社の訪問数が会社数と一致しません。\")\n",
    "# 会社の訪問過不足確認\n",
    "for i in COMPANIES:\n",
    "    has_company = False\n",
    "    for v in res.values():\n",
    "        if i in v:\n",
    "            has_company = True\n",
    "    if not has_company:\n",
    "        print(f\"会社{i}を訪問していません。\")"
   ]
  },
  {
   "cell_type": "markdown",
   "metadata": {},
   "source": [
    "### 結果ファイルの作成"
   ]
  },
  {
   "cell_type": "code",
   "execution_count": 9,
   "metadata": {},
   "outputs": [],
   "source": [
    "# 結果ファイル作成\n",
    "l = []\n",
    "for k in SALES:\n",
    "    for i in res[k]:\n",
    "        l.append([k, i])\n",
    "sub = pd.DataFrame(l, columns=(\"SID\", \"CID\"))\n",
    "sub.to_csv(\"../data/out/sample_res.csv\", index=None)"
   ]
  }
 ],
 "metadata": {
  "interpreter": {
   "hash": "f559f83d704bbaf9226605e29bdf21b91d73fa7c306d5665a55189d1d65c211e"
  },
  "kernelspec": {
   "display_name": "Python 3",
   "language": "python",
   "name": "python3"
  },
  "language_info": {
   "codemirror_mode": {
    "name": "ipython",
    "version": 3
   },
   "file_extension": ".py",
   "mimetype": "text/x-python",
   "name": "python",
   "nbconvert_exporter": "python",
   "pygments_lexer": "ipython3",
   "version": "3.9.1"
  }
 },
 "nbformat": 4,
 "nbformat_minor": 4
}
